{
 "cells": [
  {
   "cell_type": "markdown",
   "metadata": {},
   "source": [
    "# ¡Practica Espanol!"
   ]
  },
  {
   "cell_type": "markdown",
   "metadata": {},
   "source": [
    "Notebook to help with Spanish practice."
   ]
  },
  {
   "cell_type": "markdown",
   "metadata": {},
   "source": [
    "## Índice de Contenidos\n",
    "1. [Diccionarios](#Diccionarios)\n",
    "2. [Vocabulario](#Vocabulario)"
   ]
  },
  {
   "cell_type": "code",
   "execution_count": 4,
   "metadata": {},
   "outputs": [],
   "source": [
    "import numpy as np\n",
    "import pandas as pd"
   ]
  },
  {
   "cell_type": "markdown",
   "metadata": {},
   "source": [
    "## Diccionarios"
   ]
  },
  {
   "cell_type": "code",
   "execution_count": 20,
   "metadata": {},
   "outputs": [
    {
     "name": "stdout",
     "output_type": "stream",
     "text": [
      "Overwriting vocabulario.csv\n"
     ]
    }
   ],
   "source": [
    "%%writefile vocabulario.csv\n",
    "capitulo,ingles,espanol\n",
    "5,to camp,acampar\n",
    "5,to confirm a reservation,confirmar una reservación\n",
    "5,to be on vacation,estar de vacaciones\n",
    "5,\"to pack (one's suitcases)\",hacer las maletas\n",
    "5,to take a trip,hacer un viaje\n",
    "5,to (wind)surf,hacer (wind)surf\n",
    "5,to go shopping,ir de compras\n",
    "5,to go on vacation,ir de vacaciones\n",
    "5,to go by bus,ir en autobús\n",
    "5,to go by car,ir en auto(móvil)\n",
    "5,to go by plane,ir en avión\n",
    "5,to go by motorcycle,ir en barco\n",
    "5,to go by taxi,ir en taxi\n",
    "5,to play cards,jugar a las cartas\n",
    "5,to ride a horse,montar a caballo\n",
    "5,to fish,pescar\n",
    "5,to take photos,sacar/tomar fotos\n",
    "5,customs inspector (m.),el inspector de aduanas\n",
    "5,customs inspector (f.),la inspector ade aduanas\n",
    "5,traveler (m.),el viajero\n",
    "5,traveler (f.),la viajera\n",
    "5,airport,el aeropuerto\n",
    "5,countryside,el campo\n",
    "5,luggage,el equipaje\n",
    "5,bus station,la estación de autobuses\n",
    "5,subway station,la estación del metro\n",
    "5,train station,la estación de tren\n",
    "5,arrival,la llegada\n",
    "5,sea,el mar\n",
    "5,landscape,el paisaje\n",
    "5,(round-trip) ticket,el paisage (de ida y vuelta)\n",
    "5,passport,el pasaporte\n",
    "5,beach,la playa\n",
    "5,departure/exit,la salida\n",
    "5,surfboard/sailboard,la tabla de (wind)surf"
   ]
  },
  {
   "cell_type": "code",
   "execution_count": 21,
   "metadata": {},
   "outputs": [
    {
     "data": {
      "text/html": [
       "<div>\n",
       "<style scoped>\n",
       "    .dataframe tbody tr th:only-of-type {\n",
       "        vertical-align: middle;\n",
       "    }\n",
       "\n",
       "    .dataframe tbody tr th {\n",
       "        vertical-align: top;\n",
       "    }\n",
       "\n",
       "    .dataframe thead th {\n",
       "        text-align: right;\n",
       "    }\n",
       "</style>\n",
       "<table border=\"1\" class=\"dataframe\">\n",
       "  <thead>\n",
       "    <tr style=\"text-align: right;\">\n",
       "      <th></th>\n",
       "      <th>capitulo</th>\n",
       "      <th>ingles</th>\n",
       "      <th>espanol</th>\n",
       "    </tr>\n",
       "  </thead>\n",
       "  <tbody>\n",
       "    <tr>\n",
       "      <th>30</th>\n",
       "      <td>5</td>\n",
       "      <td>(round-trip) ticket</td>\n",
       "      <td>el paisage (de ida y vuelta)</td>\n",
       "    </tr>\n",
       "    <tr>\n",
       "      <th>31</th>\n",
       "      <td>5</td>\n",
       "      <td>passport</td>\n",
       "      <td>el pasaporte</td>\n",
       "    </tr>\n",
       "    <tr>\n",
       "      <th>32</th>\n",
       "      <td>5</td>\n",
       "      <td>beach</td>\n",
       "      <td>la playa</td>\n",
       "    </tr>\n",
       "    <tr>\n",
       "      <th>33</th>\n",
       "      <td>5</td>\n",
       "      <td>departure/exit</td>\n",
       "      <td>la salida</td>\n",
       "    </tr>\n",
       "    <tr>\n",
       "      <th>34</th>\n",
       "      <td>5</td>\n",
       "      <td>surfboard/sailboard</td>\n",
       "      <td>la tabla de (wind)surf</td>\n",
       "    </tr>\n",
       "  </tbody>\n",
       "</table>\n",
       "</div>"
      ],
      "text/plain": [
       "    capitulo               ingles                       espanol\n",
       "30         5  (round-trip) ticket  el paisage (de ida y vuelta)\n",
       "31         5             passport                  el pasaporte\n",
       "32         5                beach                      la playa\n",
       "33         5       departure/exit                     la salida\n",
       "34         5  surfboard/sailboard        la tabla de (wind)surf"
      ]
     },
     "metadata": {},
     "output_type": "display_data"
    }
   ],
   "source": [
    "df = pd.read_csv('vocabulario.csv')\n",
    "display(df.tail(5))"
   ]
  },
  {
   "cell_type": "markdown",
   "metadata": {},
   "source": [
    "## Vocabulario"
   ]
  },
  {
   "cell_type": "code",
   "execution_count": 30,
   "metadata": {},
   "outputs": [
    {
     "name": "stdout",
     "output_type": "stream",
     "text": [
      "Traduce al ingles: el mar: the sea\n",
      "¡Incorrecto! La respuesta correcta es: sea\n",
      "¿Continue? (y/n) y\n",
      "Traduce al ingles: la tabla de (wind)surf: surfboard\n",
      "¡Incorrecto! La respuesta correcta es: surfboard/sailboard\n",
      "¿Continue? (y/n) n\n",
      "Porcentaje = 0.0 %\n"
     ]
    }
   ],
   "source": [
    "def practica_vocabulario(capitulo=1, espanol=True):\n",
    "    \n",
    "    df_ch = df[df['capitulo']==capitulo]\n",
    "    correcto=0\n",
    "    total=0\n",
    "    \n",
    "    if espanol:\n",
    "        while True:\n",
    "            pregunta = df.sample(1)\n",
    "            ingles = pregunta['ingles'].iloc[0]\n",
    "            espanol = pregunta['espanol'].iloc[0]\n",
    "            \n",
    "            value = input(f'Traduce al español: {ingles}: ')\n",
    "            if value == espanol:\n",
    "                print('¡Correcto!')\n",
    "                correcto += 1\n",
    "                total += 1\n",
    "            else:\n",
    "                print(f'¡Incorrecto! La respuesta correcta es: {espanol}')\n",
    "                total += 1\n",
    "                \n",
    "            value = input('¿Continue? (y/n) ')\n",
    "            if value == 'y':\n",
    "                continue\n",
    "            else:\n",
    "                break\n",
    "                \n",
    "    else:\n",
    "        while True:\n",
    "            pregunta = df.sample(1)\n",
    "            ingles = pregunta['ingles'].iloc[0]\n",
    "            espanol = pregunta['espanol'].iloc[0]\n",
    "            \n",
    "            value = input(f'Traduce al ingles: {espanol}: ')\n",
    "            if value == ingles:\n",
    "                print('¡Correcto!')\n",
    "                correcto += 1\n",
    "                total += 1\n",
    "            else:\n",
    "                print(f'¡Incorrecto! La respuesta correcta es: {ingles}')\n",
    "                total += 1\n",
    "                \n",
    "            value = input('¿Continue? (y/n) ')\n",
    "            if value == 'y':\n",
    "                continue\n",
    "            else:\n",
    "                break\n",
    "    \n",
    "    print('Porcentaje =', round(100*correcto/total, 1), '%')\n",
    "        \n",
    "practica_vocabulario()"
   ]
  },
  {
   "cell_type": "code",
   "execution_count": null,
   "metadata": {},
   "outputs": [],
   "source": []
  }
 ],
 "metadata": {
  "kernelspec": {
   "display_name": "Python 3",
   "language": "python",
   "name": "python3"
  },
  "language_info": {
   "codemirror_mode": {
    "name": "ipython",
    "version": 3
   },
   "file_extension": ".py",
   "mimetype": "text/x-python",
   "name": "python",
   "nbconvert_exporter": "python",
   "pygments_lexer": "ipython3",
   "version": "3.7.3"
  }
 },
 "nbformat": 4,
 "nbformat_minor": 2
}
